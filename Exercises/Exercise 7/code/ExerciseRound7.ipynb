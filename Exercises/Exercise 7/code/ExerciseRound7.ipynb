{
 "cells": [
  {
   "cell_type": "code",
   "execution_count": 2,
   "metadata": {
    "scrolled": true
   },
   "outputs": [
    {
     "data": {
      "text/html": [
       "<script>\n",
       "code_show=true;\n",
       "function code_toggle() {\n",
       "if (code_show){\n",
       "$('div.input').hide();\n",
       "} else {\n",
       "$('div.input').show();\n",
       "}\n",
       "code_show = !code_show\n",
       "}\n",
       "$( document ).ready(code_toggle);\n",
       "</script>\n",
       "<form action=\"javascript:code_toggle()\"><input type=\"submit\" value=\"Click here to toggle on/off the raw code.\"></form>"
      ],
      "text/plain": [
       "<IPython.core.display.HTML object>"
      ]
     },
     "execution_count": 2,
     "metadata": {},
     "output_type": "execute_result"
    }
   ],
   "source": [
    "# This cell is used for creating a button that hides/unhides code cells to quickly look only the results.\n",
    "# Works only with Jupyter Notebooks.\n",
    "\n",
    "import os\n",
    "from IPython.display import HTML\n",
    "\n",
    "HTML('''<script>\n",
    "code_show=true;\n",
    "function code_toggle() {\n",
    "if (code_show){\n",
    "$('div.input').hide();\n",
    "} else {\n",
    "$('div.input').show();\n",
    "}\n",
    "code_show = !code_show\n",
    "}\n",
    "$( document ).ready(code_toggle);\n",
    "</script>\n",
    "<form action=\"javascript:code_toggle()\"><input type=\"submit\" value=\"Click here to toggle on/off the raw code.\"></form>''')"
   ]
  },
  {
   "cell_type": "code",
   "execution_count": 3,
   "metadata": {},
   "outputs": [
    {
     "name": "stdout",
     "output_type": "stream",
     "text": [
      "The data directory is /coursedata\n",
      "Data stored in /coursedata/exercise-07-data\n"
     ]
    }
   ],
   "source": [
    "# Description:\n",
    "#   Exercise7 notebook.\n",
    "#\n",
    "# Copyright (C) 2018 Santiago Cortes, Juha Ylioinas\n",
    "#\n",
    "# This software is distributed under the GNU General Public \n",
    "# Licence (version 2 or later); please refer to the file \n",
    "# Licence.txt, included with the software, for details.\n",
    "\n",
    "# Preparations\n",
    "import numpy as np\n",
    "\n",
    "# Select data directory\n",
    "if os.path.isdir('/coursedata'):\n",
    "    # JupyterHub\n",
    "    course_data_dir = '/coursedata'\n",
    "elif os.path.isdir('../../../coursedata'):\n",
    "    # Local installation\n",
    "    course_data_dir = '../../../coursedata'\n",
    "else:\n",
    "    # Docker\n",
    "    course_data_dir = '/home/jovyan/work/coursedata/'\n",
    "\n",
    "print('The data directory is %s' % course_data_dir)\n",
    "data_dir = os.path.join(course_data_dir, 'exercise-07-data')\n",
    "print('Data stored in %s' % data_dir)"
   ]
  },
  {
   "cell_type": "markdown",
   "metadata": {},
   "source": [
    "# CS-E4850 Computer Vision Exercise Round 7\n",
    "The problems should be solved before the exercise session and solutions returned via\n",
    "MyCourses. <br><br> For this exercise round, upload this notebook(pdf and .ipynb versions) containing your source codes (for Exercise 1) and your answer to the question of Exercise2, and all the answers to the questions of Exercise 3 (VGG practical), see part[1-3].ipynb. Note that it's not necessary to upload part1.ipynb, part2.ipynb or part3.ipynb, because all of the necessary questions related to them are contained in this notebook and you're not expected to do any coding in Exercises 2 and 3."
   ]
  },
  {
   "cell_type": "markdown",
   "metadata": {},
   "source": [
    "## Exercise 1 - Comparing  bags-of-words  with  tf-idf  weighting\n",
    "Assume  that  we  have  an  indexed  collection  of  documents  containing  the  five  terms  of the following table where the second row indicates the percentage of documents in which each term appears.<br>\n",
    "\n",
    "| term | cat | dog |mammals | mouse | pet |\n",
    "| --- | :---: | :---: | :---: | :---: | :---: |\n",
    "| **% of documents** | 5 | 20 | 2 | 10 | 60 |\n",
    "\n",
    "Now, given the query $Q=\\{mouse, cat, pet, mammals\\}$, compute the similarity between $Q$ and the following example documents $D1$, $D2$, $D3$, by using the cosine similarity measure and tf-idf weights (i.e. term frequency - inverse document frequency) for the bag-of-words histogram representations of the documents and the query.\n",
    "\n",
    "-  $D1$ = Cat is a pet, dog is a pet, and mouse may be a pet too.\n",
    "-  $D2$ = Cat, dog and mouse are all mammals.\n",
    "-  $D3$ = Cat and dog get along well, but cat may eat a mouse.\n",
    "\n",
    "Ignore other words except the five terms. You may proceed with the following steps:\n",
    "\n",
    "a) Compute and report the inverse document frequency (idf) for each of the five terms. Use the logarithm with base 2. (idf is the logarithm on slide 69 of Lecture 6.)<br>\n",
    "b) Compute the term frequencies for the query and each document. <br>\n",
    "c) Form the tf-idf weighted word occurrence histograms for the query and documents. <br>\n",
    "d) Evaluate the cosine similarity between the query and each document (i.e.\\ normalized scalar product between the weighted occurrence histograms as shown on slide 45).<br> \n",
    "e) Report the relative ranking of the documents. (You should get similarities 0.95, 0.64, and 0.63, but you need to determine which corresponds to which document.)<br>"
   ]
  },
  {
   "cell_type": "markdown",
   "metadata": {},
   "source": [
    "Part (a)\n",
    "\n",
    "Formula of inverse document frequency\n",
    "$$\\text{idf} = \\log_2 \\frac{N}{n_i} = \\log \\frac{\\text{Total number of documents in the database}}{\\text{Number of documents word i occurs in, in whole database}}$$"
   ]
  },
  {
   "cell_type": "code",
   "execution_count": 39,
   "metadata": {},
   "outputs": [
    {
     "name": "stdout",
     "output_type": "stream",
     "text": [
      "The idf of cat is 4.321928094887363\n",
      "The idf of dog is 2.321928094887362\n",
      "The idf of mammals is 5.643856189774724\n",
      "The idf of mouse is 3.321928094887362\n",
      "The idf of pet is 0.7369655941662062\n"
     ]
    }
   ],
   "source": [
    "percentageTerms = {'cat': 0.05, 'dog': 0.2, 'mammals': 0.02, 'mouse': 0.1, 'pet': 0.6 }\n",
    "\n",
    "idf = {}\n",
    "\n",
    "for word in percentageTerms:\n",
    "    idf[word] = np.log2(1/percentageTerms[word])\n",
    "\n",
    "for word in idf:\n",
    "    print(f\"The idf of {word} is {idf[word]}\")"
   ]
  },
  {
   "cell_type": "markdown",
   "metadata": {},
   "source": [
    "Part (b)\n",
    "\n",
    "Formula of the term frequency\n",
    "\n",
    "$$\\text{tf} = \\frac{n_{id}}{n_{d}} = \\frac{\\text{Number of occurrences of word i in document d}}{\\text{Number of words in\n",
    "document d}} $$"
   ]
  },
  {
   "cell_type": "code",
   "execution_count": 40,
   "metadata": {},
   "outputs": [
    {
     "name": "stdout",
     "output_type": "stream",
     "text": [
      "The term frequency for Q is\n",
      "{'cat': 0.25, 'dog': 0.0, 'mammals': 0.25, 'mouse': 0.25, 'pet': 0.25}\n",
      "\n",
      "The term frequency for D1 is\n",
      "{'cat': 0.16666666666666666, 'dog': 0.16666666666666666, 'mammals': 0.0, 'mouse': 0.16666666666666666, 'pet': 0.5}\n",
      "\n",
      "The term frequency for D2 is\n",
      "{'cat': 0.25, 'dog': 0.25, 'mammals': 0.25, 'mouse': 0.25, 'pet': 0.0}\n",
      "\n",
      "The term frequency for D3 is\n",
      "{'cat': 0.5, 'dog': 0.25, 'mammals': 0.0, 'mouse': 0.25, 'pet': 0.0}\n",
      "\n"
     ]
    }
   ],
   "source": [
    "words = [\"cat\",\"dog\",\"mammals\",\"mouse\",\"pet\"]\n",
    "\n",
    "Q = \"mouse cat pet mammals\"\n",
    "D1 = \"cat is a pet dog is a pet and mouse may be a pet too\"\n",
    "D2 = \"cat dog and mouse are all mammals\"\n",
    "D3 = \"cat and dog get along well but cat may eat a mouse\"\n",
    "\n",
    "\n",
    "def count(word, tokens):\n",
    "    counter = 0\n",
    "    for token in tokens:\n",
    "        if word == token:\n",
    "            counter += 1\n",
    "    return counter\n",
    "\n",
    "def tf(words, document):\n",
    "    tokens = document.split(\" \")\n",
    "    filteredDocument = []\n",
    "    for token in tokens:\n",
    "        if token in words:\n",
    "            filteredDocument.append(token)\n",
    "    nd = len(filteredDocument)\n",
    "    tf = {}\n",
    "    for word in words:\n",
    "        nid = count(word, filteredDocument)\n",
    "        tf[word] = nid/nd\n",
    "    return tf\n",
    "\n",
    "documents = [Q, D1, D2, D3]\n",
    "documentsString = [\"Q\",\"D1\",\"D2\",\"D3\"]\n",
    "tfDocuments = {}\n",
    "for i in range(0, len(documents)):\n",
    "    print(f\"The term frequency for {documentsString[i]} is\")\n",
    "    print(tf(words, documents[i]))\n",
    "    tfDocuments[documentsString[i]] = tf(words, documents[i])\n",
    "    print()"
   ]
  },
  {
   "cell_type": "markdown",
   "metadata": {},
   "source": [
    "Part (c)\n",
    "\n",
    "Formula of the term frequency – inverse document frequency \n",
    "\n",
    "$$t_i = \\frac{n_{id}}{n_d} \\log_2 \\frac{N}{n_i} = \\text{tf} \\times \\text{idf} $$"
   ]
  },
  {
   "cell_type": "code",
   "execution_count": 41,
   "metadata": {
    "scrolled": false
   },
   "outputs": [
    {
     "name": "stdout",
     "output_type": "stream",
     "text": [
      "The tf-idf for document Q is\n",
      "{'cat': 1.0804820237218407, 'dog': 0.0, 'mammals': 1.410964047443681, 'mouse': 0.8304820237218405, 'pet': 0.18424139854155155}\n",
      "\n",
      "The tf-idf for document D1 is\n",
      "{'cat': 0.7203213491478937, 'dog': 0.3869880158145603, 'mammals': 0.0, 'mouse': 0.553654682481227, 'pet': 0.3684827970831031}\n",
      "\n",
      "The tf-idf for document D2 is\n",
      "{'cat': 1.0804820237218407, 'dog': 0.5804820237218405, 'mammals': 1.410964047443681, 'mouse': 0.8304820237218405, 'pet': 0.0}\n",
      "\n",
      "The tf-idf for document D3 is\n",
      "{'cat': 2.1609640474436813, 'dog': 0.5804820237218405, 'mammals': 0.0, 'mouse': 0.8304820237218405, 'pet': 0.0}\n",
      "\n"
     ]
    },
    {
     "data": {
      "text/plain": [
       "Text(0.5, 1.0, 'tfidf of D3')"
      ]
     },
     "execution_count": 41,
     "metadata": {},
     "output_type": "execute_result"
    },
    {
     "data": {
      "image/png": "[encoded data removed]",
      "text/plain": [
       "<Figure size 864x720 with 4 Axes>"
      ]
     },
     "metadata": {
      "needs_background": "light"
     },
     "output_type": "display_data"
    }
   ],
   "source": [
    "# tf-idf = tf * idf\n",
    "documentsString = [\"Q\",\"D1\",\"D2\",\"D3\"]\n",
    "words = [\"cat\",\"dog\",\"mammals\",\"mouse\",\"pet\"] \n",
    "\n",
    "def tfidf(tf, idf):\n",
    "    tfidf = {}\n",
    "    for word in tf:\n",
    "        tfidf[word] = tf[word] * idf[word]\n",
    "    return tfidf\n",
    "\n",
    "tfidfDocuments = {}\n",
    "\n",
    "for document in documentsString:\n",
    "    tfidfDocuments[document] = tfidf(tfDocuments[document], idf) \n",
    "    print(f\"The tf-idf for document {document} is\" )\n",
    "    print(tfidfDocuments[document])\n",
    "    print()\n",
    "\n",
    "fig, axes = plt.subplots(figsize=(12,10), ncols=2, nrows=2)\n",
    "\n",
    "\n",
    "colors=['red', 'green', 'blue', 'purple', 'brown']\n",
    "\n",
    "for i in range(4):\n",
    "    length = len(words)\n",
    "\n",
    "axes[0][0].bar(range(length), list(tfidfDocuments[\"Q\"].values()), tick_label = words, color = colors)\n",
    "axes[0][0].set_title(\"tfidf of Q\")\n",
    "\n",
    "axes[0][1].bar(range(length), list(tfidfDocuments[\"D1\"].values()), tick_label = words, color = colors)\n",
    "axes[0][1].set_title(\"tfidf of D1\")\n",
    "\n",
    "axes[1][0].bar(range(length), list(tfidfDocuments[\"D2\"].values()), tick_label = words, color = colors)\n",
    "axes[1][0].set_title(\"tfidf of D2\")\n",
    "\n",
    "axes[1][1].bar(range(length), list(tfidfDocuments[\"D3\"].values()), tick_label = words, color = colors)\n",
    "axes[1][1].set_title(\"tfidf of D3\")"
   ]
  },
  {
   "cell_type": "markdown",
   "metadata": {},
   "source": [
    "Part (d) \n",
    "\n",
    "Formula of cosine similarity\n",
    "\n",
    "$$ \\text{cosine\\_similarity}(d_j, q) = \\frac{\\langle d_j, q\\rangle}{\\lVert{d_j}\\rVert \\lVert{q}\\rVert} $$"
   ]
  },
  {
   "cell_type": "code",
   "execution_count": 42,
   "metadata": {},
   "outputs": [
    {
     "name": "stdout",
     "output_type": "stream",
     "text": [
      "Cosine similarity between Query and Document 1\n",
      "0.6288846426378089\n",
      "Cosine similarity between Query and Document 2\n",
      "0.9546948111493487\n",
      "Cosine similarity between Query and Document 3\n",
      "0.6431937393302419\n"
     ]
    }
   ],
   "source": [
    "from math import *\n",
    "\n",
    "def cosine_similarity(query, document):\n",
    "    numerator = sum([document[word] * query[word] for word in query])\n",
    "    denominator = sqrt(sum([value ** 2 for value in document.values()])) * sqrt(sum([value ** 2 for value in query.values()]))\n",
    "    similarity = numerator/denominator\n",
    "\n",
    "print(\"Cosine similarity between Query and Document 1\")\n",
    "print(sim(tfidfDocuments['Q'], tfidfDocuments['D1']))\n",
    "\n",
    "print(\"Cosine similarity between Query and Document 2\")\n",
    "print(sim(tfidfDocuments['Q'], tfidfDocuments['D2']))\n",
    "\n",
    "print(\"Cosine similarity between Query and Document 3\")\n",
    "print(sim(tfidfDocuments['Q'], tfidfDocuments['D3']))"
   ]
  },
  {
   "cell_type": "markdown",
   "metadata": {},
   "source": [
    "Part (e) Report the relative ranking of the documents. \n",
    "\n",
    "Rank 1: Document 2 of similarity 0.9546\n",
    "\n",
    "Rank 2: Document 3 of similarity 0.6431 \n",
    "\n",
    "Rank 3: Document 1 of similarity 0.6288"
   ]
  },
  {
   "cell_type": "markdown",
   "metadata": {},
   "source": [
    "## Exercise 2 - Precision  and  recall\n",
    "There is a database of 10000 images and a user, who is only interested in images which contain a car. It is known that there are 500 such images in the database. An  automatic image retrieval system retrieves 300 car images and 50 other images from the database. Determine and report the precision and recall of the retrieval  system in this particular case."
   ]
  },
  {
   "cell_type": "markdown",
   "metadata": {},
   "source": [
    "Type your answer here:\n",
    "\n",
    "We have:\n",
    "\n",
    "True positive = 300 car images truly returned by the retrieval system\n",
    "\n",
    "False positive = 50 other images wrongly returned by the retrieval system\n",
    "\n",
    "False negative = 500 - 300 = 200 rest car images that are not returned by the retrieval system\n",
    "\n",
    "True negative is not relevant in this exercise\n",
    "\n",
    "The precision and recall of this retrieval system is:\n",
    "\n",
    "$$ Precision = \\frac{TP}{TP + FP} = \\frac{300}{300 + 50} = 0.857 $$\n",
    "\n",
    "$$ Recall = \\frac{TP}{TP + FN} = \\frac{300}{300 + 200} = 0.6 $$"
   ]
  },
  {
   "cell_type": "markdown",
   "metadata": {},
   "source": [
    "## Exercise 3 - VGG practical on object instance recognition\n",
    "See the questions in part[1-3].ipynb and write your answers here.\n",
    "\n",
    "Part1:\n",
    "Stage I.A (two questions)\n",
    "Stage I.B (two questions)\n",
    "Stage I.C (one question)\n",
    "\n",
    "Part2 (one question)\n",
    "\n",
    "Part3:\n",
    "Stage III.A (three questions)\n",
    "Stage III.B (one question)\n",
    "Stage III.C (two questions)"
   ]
  },
  {
   "cell_type": "markdown",
   "metadata": {},
   "source": [
    "Type your answers here: \n",
    "\n",
    "## Part 1: Stage I.A\n",
    "\n",
    "##### Question 1: Note the change in density of detections across the image. Why does it change? Will it be a problem for matching? How could it be avoided?\n",
    "\n",
    "The change in density of detections across the image varies because in the second image, there is a shaded part in the left corner of the cathedral, while the original image is uniformly lighted. \n",
    "\n",
    "The SIFT methods helps locate the local features in an image, commonly known as the 'keypoints' of the image. Different lighting still does not change these keypoints, such as edges and corners of the cathedrals. In this case I believe the shade has negligible effect on matching \n",
    "\n",
    "This problem may be avoided if the underlying neighbour finding algorithm, which is the k-d tree method, is replaced with the best bin first search algorithm, which can discover the nearest neighbors with fewer number of calculations.\n",
    "\n",
    "##### Question 2: Occasionally, a feature is detected multiple times, with different orientations. This may happen when the orientation assignment is ambiguous. Which kind of image structure would result in ambiguous orientation assignment?\n",
    "\n",
    "A feature is detected multiple times with different orientations when the keypoint appearance is symmetric, so determining the orientation can be ambiguous. The image structure that would result in ambiguous orientation assignment may have nonplanar structure, because from 2D projected image, its hard to determine the real 3D point as the depth Z is lost in the projection process. In SIFT feature detector, it may return multiple possible results when many orientations are equally plausible\n",
    "\n",
    "## Part 1: Stage I.B\n",
    "\n",
    "##### Question 1: Note the descriptors are computed over a much larger region (shown in blue) than the detection (shown in green). Why?\n",
    "\n",
    "The descriptor usually requires a larger region to describe a feature, because the neighboring region of the features need to be taken into account. Therefore, the discriptors are computed over a much larger region than the detection.\n",
    "\n",
    "##### Question 2: Notice that there are many mismatches. Examine some of the mismatches to understand why the mistakes are being made. For example, is the change in lighting a problem? What additional constraints can be applied to remove the mismatches?\n",
    "\n",
    "There are in total 4 features. Because of the high dimensionality, the matchings are more prone to errors. SIFT is generally invariant to different lighting, noise and rotation. So I believe change in lighting is not a problem. Possible addition constraints can be perpendicular direction of the current orientation. Sharing two different orientations may increase the matching accuracy\n",
    "\n",
    "\n",
    "## Part 1: Stage I.C\n",
    "\n",
    "##### Question 1: Examine some of the remaining mismatches to understand why they have occurred. How could they be removed?\n",
    "\n",
    "Because the Lowe algorithm rejects matches whose distance ratio between first and second neighbor is greater than 0.8, which helps in eliminating almost all false matches. However, this is not completely exhaustive. To be robust against feature outliers, the RANSAC algorithm can be applied to improve the matching accuracy"
   ]
  },
  {
   "cell_type": "markdown",
   "metadata": {},
   "source": [
    "###############################################################\n",
    "\n",
    "## Part 2\n",
    "\n",
    "##### Question 1: The transformation between the images induced by the plane is a planar homography. The detections are only affine co-variant (not as general as a planar homography). So how can descriptors computed on these detections possibly match?\n",
    "\n",
    "Descriptors computed on these detections can possible match because the descripted region is an ellipse shape, which at least can help detect matchings even in planar homography that is not affine co-variant"
   ]
  },
  {
   "cell_type": "markdown",
   "metadata": {},
   "source": [
    "###############################################################\n",
    "\n",
    "## Part 3: Stage III.A\n",
    "\n",
    "##### Question 1: The size of the vocabulary (the number of clusters) is an important parameter in visual word algorithms. How does the size affect the number of inliers and the difficulty of computing the transformation?\n",
    "\n",
    "1. When original maxNumChecks=1014, Matches on quantized descriptors: 46 matches in 0.0241s Verified matches on quantized descriptors: 10 matches \n",
    "With varying value of maxNumChecks variables, the returned matches by the descriptors do not change significantly and the number of inliers slightly reduced. Therefore, the size of the outliers does not greatly affect the difficulty of computing the transformation.\n",
    "\n",
    "##### Question 2: In the above procedure the time required to convert the descriptors into visual words was not accounted for. Why?\n",
    "\n",
    "2. It is because the quantization of the descriptors has already been calculated, so it shouldn't be accounted for\n",
    "\n",
    "##### Question 3: What is the speedup in searching a large, fixed database of 10, 100, 1000 images? \n",
    "\n",
    "3. The speed up time is the logarithm base (10). Speed up of 10 images is twice faster than 100 images and 3 times faster than 1000 images\n",
    "\n",
    "\n",
    "\n",
    "## Part 3: Stage III.B\n",
    "\n",
    "##### Question 1: Task: How many erroneously matched images do you count in the top results? Why does the top image have a score of 1 (0.9698... see the NOTE above)?\n",
    "\n",
    "There are in total 25 erroneous matched images in the top results. The top image has a score of 1 because it is the same as the queried image => Near perfect score\n",
    "\n",
    "\n",
    "\n",
    "## Part 3: Stage III.C \n",
    "\n",
    "##### Question 1: Why is the top score much larger than 1 now?\n",
    "\n",
    "Because in this situation, the score is actually the number of inlier words, so it is more than 1 \n",
    "\n",
    "##### Question 2: Are the retrieval results improved after geometric verification?\n",
    "\n",
    "Because unrelated images generally have lower scores, the retrieval results are actually improved after geometric verification."
   ]
  }
 ],
 "metadata": {
  "kernelspec": {
   "display_name": "Python 3",
   "language": "python",
   "name": "python3"
  },
  "language_info": {
   "codemirror_mode": {
    "name": "ipython",
    "version": 3
   },
   "file_extension": ".py",
   "mimetype": "text/x-python",
   "name": "python",
   "nbconvert_exporter": "python",
   "pygments_lexer": "ipython3",
   "version": "3.7.8"
  },
  "varInspector": {
   "cols": {
    "lenName": 16,
    "lenType": 16,
    "lenVar": 40
   },
   "kernels_config": {
    "python": {
     "delete_cmd_postfix": "",
     "delete_cmd_prefix": "del ",
     "library": "var_list.py",
     "varRefreshCmd": "print(var_dic_list())"
    },
    "r": {
     "delete_cmd_postfix": ") ",
     "delete_cmd_prefix": "rm(",
     "library": "var_list.r",
     "varRefreshCmd": "cat(var_dic_list()) "
    }
   },
   "types_to_exclude": [
    "module",
    "function",
    "builtin_function_or_method",
    "instance",
    "_Feature"
   ],
   "window_display": false
  }
 },
 "nbformat": 4,
 "nbformat_minor": 4
}
