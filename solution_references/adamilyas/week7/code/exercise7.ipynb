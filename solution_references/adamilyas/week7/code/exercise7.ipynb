{
 "cells": [
  {
   "cell_type": "code",
   "execution_count": 36,
   "metadata": {},
   "outputs": [
    {
     "name": "stdout",
     "output_type": "stream",
     "text": [
      "[nltk_data] Downloading package punkt to /home/adam/nltk_data...\n",
      "[nltk_data]   Package punkt is already up-to-date!\n"
     ]
    }
   ],
   "source": [
    "import numpy as np\n",
    "import matplotlib.pyplot as plt\n",
    "%matplotlib inline\n",
    "\n",
    "import nltk\n",
    "nltk.download('punkt')\n",
    "\n",
    "from nltk import word_tokenize\n",
    "\n",
    "from string import punctuation"
   ]
  },
  {
   "cell_type": "markdown",
   "metadata": {},
   "source": [
    "# CS-E4850 Computer Vision Exercise Round 7"
   ]
  },
  {
   "cell_type": "markdown",
   "metadata": {},
   "source": [
    "## Exercise 1 - Comparing  bags-of-words  with  tf-idf  weighting\n",
    "Assume  that  we  have  \n",
    "- an  indexed  collection  of  documents  containing  the  five  terms  {'cat', 'dot', 'mammals', 'mouse', 'pet'} and \n",
    "- the percentages {5,20,2,10,60} about percentage of documents each term appears respectively.\n",
    "\n",
    "\n",
    "Now, given the query $Q=\\{mouse, cat, pet, mammals\\}$, compute the similarity between $Q$ and the following documents $D1$, $D2$, $D3$, by using the cosine similarity measure and tf-idf weights (i.e. term frequency - inverse document frequency) for the bag-of-words histogram representations of the documents and the query.\n",
    "\n",
    "-  $D1$ = Cat is a pet, dog is a pet, and mouse may be a pet too.\n",
    "-  $D2$ = Cat, dog and mouse are all mammals.\n",
    "-  $D3$ = Cat and dog get along well, but cat may eat a mouse."
   ]
  },
  {
   "cell_type": "markdown",
   "metadata": {},
   "source": [
    "Ignore other words except the five terms. You may proceed with the following steps:\n",
    "\n",
    "### a) Compute and report the inverse document frequency (idf) for each of the five terms. Use the logarithm with base 2."
   ]
  },
  {
   "cell_type": "markdown",
   "metadata": {},
   "source": [
    "**inverse document frequency**\n",
    "$$idf = \\log \\frac{N}{n_i} = \\log \\frac{\\text{total no of doc in databas}}{\\text{no of doc containing word i}}$$"
   ]
  },
  {
   "cell_type": "code",
   "execution_count": 39,
   "metadata": {},
   "outputs": [
    {
     "data": {
      "text/plain": [
       "{'cat': 4.321928094887363,\n",
       " 'dog': 2.321928094887362,\n",
       " 'mammals': 5.643856189774724,\n",
       " 'mouse': 3.321928094887362,\n",
       " 'pet': 0.7369655941662062}"
      ]
     },
     "execution_count": 39,
     "metadata": {},
     "output_type": "execute_result"
    }
   ],
   "source": [
    "# percentage of documents each term appears\n",
    "terms = {'cat': 0.05, \n",
    "              'dog': 0.20, \n",
    "              'mammals': 0.02,\n",
    "              'mouse': 0.10,\n",
    "              'pet': 0.60 }\n",
    "\n",
    "idf = {key: np.log2(1/values) for key, values in terms.items()}\n",
    "idf"
   ]
  },
  {
   "cell_type": "markdown",
   "metadata": {},
   "source": [
    "### b) Compute the term frequencies for the query and each document.\n",
    "\n",
    "**Term frequency**\n",
    "\n",
    "$$\\text{term frequency} = \\frac{\\text{occurence of i in doc d}}{\\text{no. of words in doc d}} $$"
   ]
  },
  {
   "cell_type": "code",
   "execution_count": 4,
   "metadata": {},
   "outputs": [
    {
     "name": "stdout",
     "output_type": "stream",
     "text": [
      "['cat', 'is', 'a', 'pet', 'dog', 'is', 'a', 'pet', 'and', 'mouse', 'may', 'be', 'a', 'pet', 'too']\n"
     ]
    }
   ],
   "source": [
    "Q = ['mouse','cat','pet','mammals']\n",
    "D1 = \"Cat is a pet, dog is a pet, and mouse may be a pet too.\"\n",
    "D2 = \"Cat, dog and mouse are all mammals.\"\n",
    "D3 = \"Cat and dog get along well, but cat may eat a mouse.\"\n",
    "\n",
    "def clean(document):\n",
    "    return [word.lower() for word in word_tokenize(document) if word not in punctuation]\n",
    "\n",
    "v1 = clean(D1)\n",
    "v2 = clean(D2)\n",
    "v3 = clean(D3)\n",
    "\n",
    "print(v1)"
   ]
  },
  {
   "cell_type": "code",
   "execution_count": 27,
   "metadata": {},
   "outputs": [],
   "source": [
    "# let query be a document\n",
    "def build_tf(document):\n",
    "    N = len(document)\n",
    "    tf = {}\n",
    "    for unique_word in set(document):\n",
    "        word_count = 0\n",
    "        for word in document:\n",
    "            if word == unique_word:\n",
    "                word_count += 1\n",
    "        tf[unique_word] = round(word_count/N,3)\n",
    "    return tf"
   ]
  },
  {
   "cell_type": "code",
   "execution_count": 62,
   "metadata": {},
   "outputs": [
    {
     "name": "stdout",
     "output_type": "stream",
     "text": [
      "\n",
      "Term frequency for Query\n",
      "{'cat': 0.25, 'mouse': 0.25, 'mammals': 0.25, 'pet': 0.25}\n",
      "\n",
      "Term frequency for Document 1\n",
      "{'is': 0.133, 'and': 0.067, 'too': 0.067, 'may': 0.067, 'dog': 0.067, 'pet': 0.2, 'a': 0.2, 'mouse': 0.067, 'be': 0.067, 'cat': 0.067}\n",
      "\n",
      "Term frequency for Document 2\n",
      "{'and': 0.143, 'dog': 0.143, 'mouse': 0.143, 'all': 0.143, 'mammals': 0.143, 'are': 0.143, 'cat': 0.143}\n",
      "\n",
      "Term frequency for Document 3\n",
      "{'and': 0.083, 'well': 0.083, 'may': 0.083, 'dog': 0.083, 'mouse': 0.083, 'a': 0.083, 'eat': 0.083, 'get': 0.083, 'but': 0.083, 'along': 0.083, 'cat': 0.167}\n"
     ]
    }
   ],
   "source": [
    "tf_q = build_tf(Q)\n",
    "print(\"\\nTerm frequency for Query\")\n",
    "print(tf_q)\n",
    "tf_v1 = build_tf(v1)\n",
    "print(\"\\nTerm frequency for Document 1\")\n",
    "print(tf_v1)\n",
    "tf_v2 = build_tf(v2)\n",
    "print(\"\\nTerm frequency for Document 2\")\n",
    "print(tf_v2)\n",
    "tf_v3 = build_tf(v3)\n",
    "print(\"\\nTerm frequency for Document 3\")\n",
    "print(tf_v3)"
   ]
  },
  {
   "cell_type": "markdown",
   "metadata": {},
   "source": [
    "c) Form the tf-idf weighted word occurrence histograms for the query and documents. <br>\n",
    "\n",
    "**Term frequency – inverse document frequency**\n",
    "\n",
    "$$t_i = \\frac{n_{id}}{n_d} \\log \\frac{N}{n_i}$$\n",
    "\n",
    "$$t_i = \\frac{\\text{occurence of i in doc d}}{\\text{no. of words in doc d}} \n",
    "\\times \\text{idf}$$"
   ]
  },
  {
   "cell_type": "code",
   "execution_count": 67,
   "metadata": {},
   "outputs": [
    {
     "data": {
      "image/png": "[encoded data removed]",
      "text/plain": [
       "<Figure size 1152x720 with 4 Axes>"
      ]
     },
     "metadata": {},
     "output_type": "display_data"
    }
   ],
   "source": [
    "# ignoring other items\n",
    "titles = [\"Query\", \"D1\", \"D2\", \"D3\"]\n",
    "\n",
    "fig, axes = plt.subplots(figsize=(16,10), ncols=2, nrows=2)\n",
    "\n",
    "tf_ls = [tf_q, tf_v1, tf_v2, tf_v3]\n",
    "tf_idf_dict = {}\n",
    "\n",
    "for i in range(len(tf_ls)):\n",
    "    tf_idf = {names: 0 for names in terms}\n",
    "    \n",
    "    tf = tf_ls[i]\n",
    "    for term in tf:\n",
    "        if term in idf:\n",
    "            tf_idf[term] = tf[term] * idf[term]\n",
    "            \n",
    "    tf_idf_dict[titles[i]] = tf_idf\n",
    "\n",
    "    names = list(tf_idf.keys())\n",
    "    values = list(tf_idf.values())\n",
    "\n",
    "    #tick_label does the some work as plt.xticks()\n",
    "    \n",
    "    axes[int(i/2)][i%2].bar(range(len(tf_idf)),values,tick_label=names)\n",
    "    axes[int(i/2)][i%2].set_title(titles[i])"
   ]
  },
  {
   "cell_type": "code",
   "execution_count": 68,
   "metadata": {},
   "outputs": [
    {
     "name": "stdout",
     "output_type": "stream",
     "text": [
      "{'D1': {'cat': 0.2895691823574533,\n",
      "        'dog': 0.15556918235745326,\n",
      "        'mammals': 0,\n",
      "        'mouse': 0.22256918235745327,\n",
      "        'pet': 0.14739311883324124},\n",
      " 'D2': {'cat': 0.6180357175688928,\n",
      "        'dog': 0.3320357175688928,\n",
      "        'mammals': 0.8070714351377856,\n",
      "        'mouse': 0.47503571756889273,\n",
      "        'pet': 0},\n",
      " 'D3': {'cat': 0.7217619918461896,\n",
      "        'dog': 0.19272003187565107,\n",
      "        'mammals': 0,\n",
      "        'mouse': 0.2757200318756511,\n",
      "        'pet': 0},\n",
      " 'Query': {'cat': 1.0804820237218407,\n",
      "           'dog': 0,\n",
      "           'mammals': 1.410964047443681,\n",
      "           'mouse': 0.8304820237218405,\n",
      "           'pet': 0.18424139854155155}}\n"
     ]
    }
   ],
   "source": [
    "from pprint import pprint\n",
    "pprint(tf_idf_dict)"
   ]
  },
  {
   "cell_type": "markdown",
   "metadata": {},
   "source": [
    "### d) Evaluate the cosine similarity between the query and each document (i.e.\\ normalized scalar product between the weighted occurrence histograms as shown on slide 45)"
   ]
  },
  {
   "cell_type": "code",
   "execution_count": 79,
   "metadata": {},
   "outputs": [],
   "source": [
    "def sim(query, d):\n",
    "    numerator = sum([d[term] * query[term] for term in query])\n",
    "    denominator = np.sqrt(sum([d[term]**2 for term in d])) * np.sqrt(sum([query[term]**2 for term in query]))\n",
    "    return  numerator / denominator"
   ]
  },
  {
   "cell_type": "code",
   "execution_count": 80,
   "metadata": {},
   "outputs": [
    {
     "name": "stdout",
     "output_type": "stream",
     "text": [
      "Cosine similarity between Query and Document 1\n"
     ]
    },
    {
     "data": {
      "text/plain": [
       "0.6291036970635482"
      ]
     },
     "execution_count": 80,
     "metadata": {},
     "output_type": "execute_result"
    }
   ],
   "source": [
    "print(\"Cosine similarity between Query and Document 1\")\n",
    "sim(tf_idf_dict['Query'], tf_idf_dict['D1'])"
   ]
  },
  {
   "cell_type": "code",
   "execution_count": 81,
   "metadata": {},
   "outputs": [
    {
     "name": "stdout",
     "output_type": "stream",
     "text": [
      "Cosine similarity between Query and Document 2\n"
     ]
    },
    {
     "data": {
      "text/plain": [
       "0.9546948111493485"
      ]
     },
     "execution_count": 81,
     "metadata": {},
     "output_type": "execute_result"
    }
   ],
   "source": [
    "print(\"Cosine similarity between Query and Document 2\")\n",
    "sim(tf_idf_dict['Query'], tf_idf_dict['D2'])"
   ]
  },
  {
   "cell_type": "code",
   "execution_count": 82,
   "metadata": {},
   "outputs": [
    {
     "name": "stdout",
     "output_type": "stream",
     "text": [
      "Cosine similarity between Query and Document 3\n"
     ]
    },
    {
     "data": {
      "text/plain": [
       "0.6430077230767424"
      ]
     },
     "execution_count": 82,
     "metadata": {},
     "output_type": "execute_result"
    }
   ],
   "source": [
    "print(\"Cosine similarity between Query and Document 3\")\n",
    "sim(tf_idf_dict['Query'], tf_idf_dict['D3'])"
   ]
  },
  {
   "cell_type": "markdown",
   "metadata": {},
   "source": [
    "### e) Report the relative ranking of the documents. (You should get similarities 0.95, 0.64, and 0.63, but you need to determine which corresponds to which document.)\n",
    "\n",
    "Document 2: 0.95, Document 3: 0.64, Document 1: 0.63"
   ]
  }
 ],
 "metadata": {
  "kernelspec": {
   "display_name": "Python 3.10.5 64-bit",
   "language": "python",
   "name": "python3"
  },
  "language_info": {
   "codemirror_mode": {
    "name": "ipython",
    "version": 3
   },
   "file_extension": ".py",
   "mimetype": "text/x-python",
   "name": "python",
   "nbconvert_exporter": "python",
   "pygments_lexer": "ipython3",
   "version": "3.10.5"
  },
  "vscode": {
   "interpreter": {
    "hash": "3bc1a11519d29b3ed6f08646f3ece60640217e649724c6bcfd38e1173c1a1bce"
   }
  }
 },
 "nbformat": 4,
 "nbformat_minor": 2
}
